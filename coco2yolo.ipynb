{
 "cells": [
  {
   "cell_type": "code",
   "execution_count": 6,
   "metadata": {},
   "outputs": [],
   "source": [
    "import glob\n",
    "import json"
   ]
  },
  {
   "cell_type": "code",
   "execution_count": 34,
   "metadata": {},
   "outputs": [
    {
     "name": "stdout",
     "output_type": "stream",
     "text": [
      "4046\n"
     ]
    }
   ],
   "source": [
    "data_path = 'data/*.json'\n",
    "data = glob.glob(data_path)\n",
    "print(len(data))"
   ]
  },
  {
   "cell_type": "code",
   "execution_count": 35,
   "metadata": {},
   "outputs": [],
   "source": [
    "for datum in data:\n",
    "    with open(datum,'r') as load_f:\n",
    "        load_dict=json.load(load_f)\n",
    "        img_data = load_dict['metadata']\n",
    "        img_w, img_h = img_data['width'], img_data['height']\n",
    "\n",
    "        label_data = load_dict['frames']\n",
    "        for ld in label_data:\n",
    "            file_name = ld['image'].split(\".\")[0]\n",
    "            lines = ''\n",
    "            for an in ld['annotations']:\n",
    "                x1, y1, w, h = an['label']['x'], an['label']['y'], an['label']['width'], an['label']['height']\n",
    "                x2, y2 = x1 + w, y1 + h\n",
    "\n",
    "                x=(x1+x2)/2/img_w\n",
    "                y=(y1+y2)/2/img_h\n",
    "                w=(x2-x1)/img_w\n",
    "                h=(y2-y1)/img_h\n",
    "\n",
    "                lines += f'0 {round(x,6)} {round(y,6)} {round(w,6)} {round(h,6)}\\n'\n",
    "            # print(file_name)\n",
    "            # print(lines)\n",
    "            \n",
    "            f = open(f'labels/{file_name}.txt', 'w')\n",
    "            f.write(lines)\n",
    "            f.close()\n"
   ]
  },
  {
   "cell_type": "code",
   "execution_count": null,
   "metadata": {},
   "outputs": [],
   "source": []
  }
 ],
 "metadata": {
  "interpreter": {
   "hash": "0a9f8405c0f18daf9607456b76ee04ae92accfe852df20ea08fbd1c82129b142"
  },
  "kernelspec": {
   "display_name": "Python 3.8.13 ('xml2txt')",
   "language": "python",
   "name": "python3"
  },
  "language_info": {
   "codemirror_mode": {
    "name": "ipython",
    "version": 3
   },
   "file_extension": ".py",
   "mimetype": "text/x-python",
   "name": "python",
   "nbconvert_exporter": "python",
   "pygments_lexer": "ipython3",
   "version": "3.8.13"
  },
  "orig_nbformat": 4
 },
 "nbformat": 4,
 "nbformat_minor": 2
}
